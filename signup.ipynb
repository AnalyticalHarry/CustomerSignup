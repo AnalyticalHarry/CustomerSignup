{
 "cells": [
  {
   "cell_type": "markdown",
   "id": "80b18c06",
   "metadata": {},
   "source": [
    "# Online Sign-up"
   ]
  },
  {
   "cell_type": "markdown",
   "id": "a22ce0bf",
   "metadata": {},
   "source": [
    "#### Importing library"
   ]
  },
  {
   "cell_type": "code",
   "execution_count": 28,
   "id": "8ef1bba7",
   "metadata": {},
   "outputs": [],
   "source": [
    "import pandas as pd \n",
    "import numpy as np \n",
    "import openpyxl"
   ]
  },
  {
   "cell_type": "code",
   "execution_count": 63,
   "id": "94e8589c",
   "metadata": {},
   "outputs": [
    {
     "name": "stdout",
     "output_type": "stream",
     "text": [
      "Hello, I heard you are interested into our product.\n",
      "How many people are here to sign-up? (for example 1,2,3....,n):  5\n",
      "\n",
      "Enter your First Name:  Harry\n",
      "Enter your Last Name:  World\n",
      "Enter your Country :  UnitedKingdom\n",
      "Enter your Address:  Cecil street\n",
      "Enter your Postcode :  G12\n",
      "Gender:  Male\n",
      "Enter your Email:  hemantthapa1998@gmail.com\n",
      "Enter your Contact Number:  07752106224\n",
      "\n",
      "Sucessfully, sign-up completed: 1\n",
      "\n",
      "Enter your First Name:  Visam\n",
      "Enter your Last Name:  Rao\n",
      "Enter your Country :  United kingdom\n",
      "Enter your Address:  Willow bank\n",
      "Enter your Postcode :  G13\n",
      "Gender:  Male\n",
      "Enter your Email:  xyz@gmail.com\n",
      "Enter your Contact Number:  0770000000\n",
      "\n",
      "Sucessfully, sign-up completed: 2\n",
      "\n",
      "Enter your First Name:  Vikram\n",
      "Enter your Last Name:  Singh\n",
      "Enter your Country :  Unitedkingdom\n",
      "Enter your Address:  Glasgow\n",
      "Enter your Postcode :  G13\n",
      "Gender:  Male\n",
      "Enter your Email:  vikxyz@gmail.com\n",
      "Enter your Contact Number:  077545000000\n",
      "\n",
      "Sucessfully, sign-up completed: 3\n",
      "\n",
      "Enter your First Name:  Adam\n",
      "Enter your Last Name:  Newlands\n",
      "Enter your Country :  Unitedkingdom\n",
      "Enter your Address:  clydebank\n",
      "Enter your Postcode :  g14\n",
      "Gender:  Male\n",
      "Enter your Email:  adamxyz@gmail.com\n",
      "Enter your Contact Number:  0775200000xxxx\n",
      "\n",
      "Sucessfully, sign-up completed: 4\n",
      "\n",
      "Enter your First Name:  Tracey\n",
      "Enter your Last Name:  gills\n",
      "Enter your Country :  Unitedkingdom\n",
      "Enter your Address:  Clydebank\n",
      "Enter your Postcode :  G14\n",
      "Gender:  female\n",
      "Enter your Email:  tRaCy@gmail.com\n",
      "Enter your Contact Number:  077520000000\n",
      "\n",
      "Sucessfully, sign-up completed: 5\n",
      "\n"
     ]
    }
   ],
   "source": [
    "print(\"Hello, I heard you are interested into our product.\") #Greeting to user\n",
    "case = int(input(\"How many people are here to sign-up? (for example 1,2,3....,n):  \")) #total number of people for registration\n",
    "print()\n",
    "\n",
    "#List are used to store value\n",
    "Fname_list=[]; #First Name\n",
    "Lname_list=[]; #Last Name\n",
    "Country_list=[]; #Country\n",
    "Address_list=[]; #First line of Address\n",
    "Postcode_list=[]; #Postcode\n",
    "Gender_list=[]; #Sex\n",
    "Email_list=[]; #Email Address\n",
    "Contact_list=[] #Contact Number\n",
    "\n",
    "for i in range(case): #Iterate in range of case, which was total number of people appear for registration\n",
    "    #for loop interating and assigning value to list\n",
    "    value=input(\"Enter your First Name:  \").title(); \n",
    "    value1=input(\"Enter your Last Name:  \").title(); \n",
    "    value2=input(\"Enter your Country :  \").title(); \n",
    "    value3=input(\"Enter your Address:  \").title(); \n",
    "    value4=input(\"Enter your Postcode :  \").title();\n",
    "    value5=input(\"Gender:  \").title();\n",
    "    value6=input(\"Enter your Email:  \").lower();\n",
    "    value7=input(\"Enter your Contact Number:  \");   \n",
    "    print()\n",
    "    print(f\"Sucessfully, sign-up completed:\", i+1)\n",
    "    print()\n",
    "    Fname_list.append(value);\n",
    "    Lname_list.append(value1);\n",
    "    Country_list.append(value2);\n",
    "    Address_list.append(value3);\n",
    "    Postcode_list.append(value4);\n",
    "    Gender_list.append(value5);\n",
    "    Email_list.append(value6);\n",
    "    Contact_list.append(value7);\n",
    "    #assigning value to key inside the dictonary\n",
    "dict = {\"first_name\":Fname_list,\n",
    "            \"last_name\":Lname_list,\n",
    "            \"country\":Country_list,\n",
    "            \"address\":Address_list,\n",
    "            \"postcode\":Postcode_list, \n",
    "            \"gender\":Gender_list,\n",
    "            \"email\":Email_list ,\n",
    "            \"contact\":Contact_list,\n",
    "           };\n",
    "df_sample = pd.DataFrame(dict)\n",
    "df_sample.to_excel(r'C:\\Users\\Public\\Downloads\\data.xlsx')"
   ]
  },
  {
   "cell_type": "code",
   "execution_count": 64,
   "id": "81b9bc6b",
   "metadata": {},
   "outputs": [
    {
     "data": {
      "text/plain": [
       "{'first_name': ['Harry', 'Visam', 'Vikram', 'Adam', 'Tracey'],\n",
       " 'last_name': ['World', 'Rao', 'Singh', 'Newlands', 'Gills'],\n",
       " 'country': ['Unitedkingdom',\n",
       "  'United Kingdom',\n",
       "  'Unitedkingdom',\n",
       "  'Unitedkingdom',\n",
       "  'Unitedkingdom'],\n",
       " 'address': ['Cecil Street',\n",
       "  'Willow Bank',\n",
       "  'Glasgow',\n",
       "  'Clydebank',\n",
       "  'Clydebank'],\n",
       " 'postcode': ['G12', 'G13', 'G13', 'G14', 'G14'],\n",
       " 'gender': ['Male', 'Male', 'Male', 'Male', 'Female'],\n",
       " 'email': ['hemantthapa1998@gmail.com',\n",
       "  'xyz@gmail.com',\n",
       "  'vikxyz@gmail.com',\n",
       "  'adamxyz@gmail.com',\n",
       "  'tracy@gmail.com'],\n",
       " 'contact': ['07752106224',\n",
       "  '0770000000',\n",
       "  '077545000000',\n",
       "  '0775200000xxxx',\n",
       "  '077520000000']}"
      ]
     },
     "execution_count": 64,
     "metadata": {},
     "output_type": "execute_result"
    }
   ],
   "source": [
    "dict"
   ]
  },
  {
   "cell_type": "code",
   "execution_count": 65,
   "id": "2fe4c0cb",
   "metadata": {},
   "outputs": [
    {
     "data": {
      "text/html": [
       "<div>\n",
       "<style scoped>\n",
       "    .dataframe tbody tr th:only-of-type {\n",
       "        vertical-align: middle;\n",
       "    }\n",
       "\n",
       "    .dataframe tbody tr th {\n",
       "        vertical-align: top;\n",
       "    }\n",
       "\n",
       "    .dataframe thead th {\n",
       "        text-align: right;\n",
       "    }\n",
       "</style>\n",
       "<table border=\"1\" class=\"dataframe\">\n",
       "  <thead>\n",
       "    <tr style=\"text-align: right;\">\n",
       "      <th></th>\n",
       "      <th>first_name</th>\n",
       "      <th>last_name</th>\n",
       "      <th>country</th>\n",
       "      <th>address</th>\n",
       "      <th>postcode</th>\n",
       "      <th>gender</th>\n",
       "      <th>email</th>\n",
       "      <th>contact</th>\n",
       "    </tr>\n",
       "  </thead>\n",
       "  <tbody>\n",
       "    <tr>\n",
       "      <th>0</th>\n",
       "      <td>Harry</td>\n",
       "      <td>World</td>\n",
       "      <td>Unitedkingdom</td>\n",
       "      <td>Cecil Street</td>\n",
       "      <td>G12</td>\n",
       "      <td>Male</td>\n",
       "      <td>hemantthapa1998@gmail.com</td>\n",
       "      <td>07752106224</td>\n",
       "    </tr>\n",
       "    <tr>\n",
       "      <th>1</th>\n",
       "      <td>Visam</td>\n",
       "      <td>Rao</td>\n",
       "      <td>United Kingdom</td>\n",
       "      <td>Willow Bank</td>\n",
       "      <td>G13</td>\n",
       "      <td>Male</td>\n",
       "      <td>xyz@gmail.com</td>\n",
       "      <td>0770000000</td>\n",
       "    </tr>\n",
       "    <tr>\n",
       "      <th>2</th>\n",
       "      <td>Vikram</td>\n",
       "      <td>Singh</td>\n",
       "      <td>Unitedkingdom</td>\n",
       "      <td>Glasgow</td>\n",
       "      <td>G13</td>\n",
       "      <td>Male</td>\n",
       "      <td>vikxyz@gmail.com</td>\n",
       "      <td>077545000000</td>\n",
       "    </tr>\n",
       "    <tr>\n",
       "      <th>3</th>\n",
       "      <td>Adam</td>\n",
       "      <td>Newlands</td>\n",
       "      <td>Unitedkingdom</td>\n",
       "      <td>Clydebank</td>\n",
       "      <td>G14</td>\n",
       "      <td>Male</td>\n",
       "      <td>adamxyz@gmail.com</td>\n",
       "      <td>0775200000xxxx</td>\n",
       "    </tr>\n",
       "    <tr>\n",
       "      <th>4</th>\n",
       "      <td>Tracey</td>\n",
       "      <td>Gills</td>\n",
       "      <td>Unitedkingdom</td>\n",
       "      <td>Clydebank</td>\n",
       "      <td>G14</td>\n",
       "      <td>Female</td>\n",
       "      <td>tracy@gmail.com</td>\n",
       "      <td>077520000000</td>\n",
       "    </tr>\n",
       "  </tbody>\n",
       "</table>\n",
       "</div>"
      ],
      "text/plain": [
       "  first_name last_name         country       address postcode  gender  \\\n",
       "0      Harry     World   Unitedkingdom  Cecil Street      G12    Male   \n",
       "1      Visam       Rao  United Kingdom   Willow Bank      G13    Male   \n",
       "2     Vikram     Singh   Unitedkingdom       Glasgow      G13    Male   \n",
       "3       Adam  Newlands   Unitedkingdom     Clydebank      G14    Male   \n",
       "4     Tracey     Gills   Unitedkingdom     Clydebank      G14  Female   \n",
       "\n",
       "                       email         contact  \n",
       "0  hemantthapa1998@gmail.com     07752106224  \n",
       "1              xyz@gmail.com      0770000000  \n",
       "2           vikxyz@gmail.com    077545000000  \n",
       "3          adamxyz@gmail.com  0775200000xxxx  \n",
       "4            tracy@gmail.com    077520000000  "
      ]
     },
     "execution_count": 65,
     "metadata": {},
     "output_type": "execute_result"
    }
   ],
   "source": [
    "df_sample = pd.DataFrame(dict)\n",
    "df_sample"
   ]
  },
  {
   "cell_type": "code",
   "execution_count": 66,
   "id": "7008b902",
   "metadata": {},
   "outputs": [
    {
     "data": {
      "text/plain": [
       "(5, 8)"
      ]
     },
     "execution_count": 66,
     "metadata": {},
     "output_type": "execute_result"
    }
   ],
   "source": [
    "df_sample.shape"
   ]
  }
 ],
 "metadata": {
  "kernelspec": {
   "display_name": "Python 3 (ipykernel)",
   "language": "python",
   "name": "python3"
  },
  "language_info": {
   "codemirror_mode": {
    "name": "ipython",
    "version": 3
   },
   "file_extension": ".py",
   "mimetype": "text/x-python",
   "name": "python",
   "nbconvert_exporter": "python",
   "pygments_lexer": "ipython3",
   "version": "3.9.12"
  }
 },
 "nbformat": 4,
 "nbformat_minor": 5
}
